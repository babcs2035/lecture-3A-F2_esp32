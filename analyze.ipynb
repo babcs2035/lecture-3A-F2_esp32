{
 "cells": [
  {
   "cell_type": "code",
   "execution_count": 1,
   "metadata": {},
   "outputs": [],
   "source": [
    "import pandas as pd\n",
    "import numpy as np"
   ]
  },
  {
   "cell_type": "markdown",
   "metadata": {},
   "source": [
    "# old"
   ]
  },
  {
   "cell_type": "code",
   "execution_count": 13,
   "metadata": {},
   "outputs": [
    {
     "data": {
      "text/html": [
       "<div>\n",
       "<style scoped>\n",
       "    .dataframe tbody tr th:only-of-type {\n",
       "        vertical-align: middle;\n",
       "    }\n",
       "\n",
       "    .dataframe tbody tr th {\n",
       "        vertical-align: top;\n",
       "    }\n",
       "\n",
       "    .dataframe thead th {\n",
       "        text-align: right;\n",
       "    }\n",
       "</style>\n",
       "<table border=\"1\" class=\"dataframe\">\n",
       "  <thead>\n",
       "    <tr style=\"text-align: right;\">\n",
       "      <th></th>\n",
       "      <th>t</th>\n",
       "      <th>max</th>\n",
       "      <th>min</th>\n",
       "      <th>amp</th>\n",
       "    </tr>\n",
       "  </thead>\n",
       "  <tbody>\n",
       "    <tr>\n",
       "      <th>0</th>\n",
       "      <td>1</td>\n",
       "      <td>2369</td>\n",
       "      <td>805</td>\n",
       "      <td>782</td>\n",
       "    </tr>\n",
       "    <tr>\n",
       "      <th>1</th>\n",
       "      <td>2</td>\n",
       "      <td>2448</td>\n",
       "      <td>714</td>\n",
       "      <td>867</td>\n",
       "    </tr>\n",
       "    <tr>\n",
       "      <th>2</th>\n",
       "      <td>3</td>\n",
       "      <td>2403</td>\n",
       "      <td>726</td>\n",
       "      <td>838</td>\n",
       "    </tr>\n",
       "    <tr>\n",
       "      <th>3</th>\n",
       "      <td>4</td>\n",
       "      <td>2541</td>\n",
       "      <td>632</td>\n",
       "      <td>954</td>\n",
       "    </tr>\n",
       "    <tr>\n",
       "      <th>4</th>\n",
       "      <td>5</td>\n",
       "      <td>2470</td>\n",
       "      <td>695</td>\n",
       "      <td>887</td>\n",
       "    </tr>\n",
       "  </tbody>\n",
       "</table>\n",
       "</div>"
      ],
      "text/plain": [
       "   t   max  min  amp\n",
       "0  1  2369  805  782\n",
       "1  2  2448  714  867\n",
       "2  3  2403  726  838\n",
       "3  4  2541  632  954\n",
       "4  5  2470  695  887"
      ]
     },
     "execution_count": 13,
     "metadata": {},
     "output_type": "execute_result"
    }
   ],
   "source": [
    "w67 = pd.read_csv('w67_1.csv')\n",
    "w67.head()"
   ]
  },
  {
   "cell_type": "code",
   "execution_count": 14,
   "metadata": {},
   "outputs": [
    {
     "name": "stdout",
     "output_type": "stream",
     "text": [
      "amp_mean: 1178.5373134328358\n",
      "amp_var: 26793.279850746276\n",
      "amp_std: 163.68652922811418\n"
     ]
    }
   ],
   "source": [
    "# ampの平均と分散を出す\n",
    "amp_mean = w67['amp'].mean()\n",
    "amp_var = w67['amp'].var()\n",
    "amp_std = w67['amp'].std()\n",
    "print('amp_mean:', amp_mean)\n",
    "print('amp_var:', amp_var)\n",
    "print('amp_std:', amp_std)"
   ]
  },
  {
   "cell_type": "code",
   "execution_count": 19,
   "metadata": {},
   "outputs": [
    {
     "name": "stdout",
     "output_type": "stream",
     "text": [
      "amp_mean: 980.615\n",
      "amp_var: 25106.810829145732\n",
      "amp_std: 158.451288505792\n"
     ]
    }
   ],
   "source": [
    "w45 = pd.read_csv('w45_1.csv')\n",
    "amp_mean = w45['amp'].mean()\n",
    "amp_var = w45['amp'].var()\n",
    "amp_std = w45['amp'].std()\n",
    "print('amp_mean:', amp_mean)\n",
    "print('amp_var:', amp_var)\n",
    "print('amp_std:', amp_std)"
   ]
  },
  {
   "cell_type": "code",
   "execution_count": null,
   "metadata": {},
   "outputs": [
    {
     "name": "stdout",
     "output_type": "stream",
     "text": [
      "amp_mean: 772.255\n",
      "amp_var: 3881.1658040201\n",
      "amp_std: 62.299003234563074\n"
     ]
    }
   ],
   "source": [
    "w27 = pd.read_csv('w27_2.csv')\n",
    "amp_mean = w27['amp'].mean()\n",
    "amp_var = w27['amp'].var()\n",
    "amp_std = w27['amp'].std()\n",
    "print('amp_mean:', amp_mean)\n",
    "print('amp_var:', amp_var)\n",
    "print('amp_std:', amp_std)"
   ]
  },
  {
   "cell_type": "code",
   "execution_count": 18,
   "metadata": {},
   "outputs": [
    {
     "name": "stdout",
     "output_type": "stream",
     "text": [
      "amp_mean: 1331.075\n",
      "amp_var: 22889.235552763832\n",
      "amp_std: 151.29188858879326\n"
     ]
    }
   ],
   "source": [
    "w67 = pd.read_csv(\"w67_2.csv\")\n",
    "amp_mean = w67['amp'].mean()\n",
    "amp_var = w67['amp'].var()\n",
    "amp_std = w67['amp'].std()\n",
    "print('amp_mean:', amp_mean)\n",
    "print('amp_var:', amp_var)\n",
    "print('amp_std:', amp_std)"
   ]
  },
  {
   "cell_type": "code",
   "execution_count": 20,
   "metadata": {},
   "outputs": [
    {
     "name": "stdout",
     "output_type": "stream",
     "text": [
      "amp_mean: 1400.21\n",
      "amp_var: 12256.779798994974\n",
      "amp_std: 110.7103418791351\n"
     ]
    }
   ],
   "source": [
    "w45 = pd.read_csv(\"w45_2.csv\")\n",
    "amp_mean = w45['amp'].mean()\n",
    "amp_var = w45['amp'].var()\n",
    "amp_std = w45['amp'].std()\n",
    "print('amp_mean:', amp_mean)\n",
    "print('amp_var:', amp_var)\n",
    "print('amp_std:', amp_std)"
   ]
  },
  {
   "cell_type": "code",
   "execution_count": null,
   "metadata": {},
   "outputs": [],
   "source": []
  },
  {
   "cell_type": "markdown",
   "metadata": {},
   "source": [
    "# new"
   ]
  },
  {
   "cell_type": "code",
   "execution_count": 2,
   "metadata": {},
   "outputs": [
    {
     "data": {
      "text/html": [
       "<div>\n",
       "<style scoped>\n",
       "    .dataframe tbody tr th:only-of-type {\n",
       "        vertical-align: middle;\n",
       "    }\n",
       "\n",
       "    .dataframe tbody tr th {\n",
       "        vertical-align: top;\n",
       "    }\n",
       "\n",
       "    .dataframe thead th {\n",
       "        text-align: right;\n",
       "    }\n",
       "</style>\n",
       "<table border=\"1\" class=\"dataframe\">\n",
       "  <thead>\n",
       "    <tr style=\"text-align: right;\">\n",
       "      <th></th>\n",
       "      <th>resistor</th>\n",
       "      <th>W</th>\n",
       "      <th>amp_mean</th>\n",
       "      <th>amp_var</th>\n",
       "      <th>amp_std</th>\n",
       "    </tr>\n",
       "  </thead>\n",
       "  <tbody>\n",
       "  </tbody>\n",
       "</table>\n",
       "</div>"
      ],
      "text/plain": [
       "Empty DataFrame\n",
       "Columns: [resistor, W, amp_mean, amp_var, amp_std]\n",
       "Index: []"
      ]
     },
     "execution_count": 2,
     "metadata": {},
     "output_type": "execute_result"
    }
   ],
   "source": [
    "df_result = pd.DataFrame(columns=[\"resistor\", \"W\", \"amp_mean\", \"amp_var\", \"amp_std\"])\n",
    "df_result"
   ]
  },
  {
   "cell_type": "code",
   "execution_count": 3,
   "metadata": {},
   "outputs": [
    {
     "data": {
      "text/html": [
       "<div>\n",
       "<style scoped>\n",
       "    .dataframe tbody tr th:only-of-type {\n",
       "        vertical-align: middle;\n",
       "    }\n",
       "\n",
       "    .dataframe tbody tr th {\n",
       "        vertical-align: top;\n",
       "    }\n",
       "\n",
       "    .dataframe thead th {\n",
       "        text-align: right;\n",
       "    }\n",
       "</style>\n",
       "<table border=\"1\" class=\"dataframe\">\n",
       "  <thead>\n",
       "    <tr style=\"text-align: right;\">\n",
       "      <th></th>\n",
       "      <th>resistor</th>\n",
       "      <th>W</th>\n",
       "      <th>amp_mean</th>\n",
       "      <th>amp_var</th>\n",
       "      <th>amp_std</th>\n",
       "    </tr>\n",
       "  </thead>\n",
       "  <tbody>\n",
       "    <tr>\n",
       "      <th>w67_2</th>\n",
       "      <td>1800</td>\n",
       "      <td>67</td>\n",
       "      <td>1331.075</td>\n",
       "      <td>22889.235553</td>\n",
       "      <td>151.291889</td>\n",
       "    </tr>\n",
       "  </tbody>\n",
       "</table>\n",
       "</div>"
      ],
      "text/plain": [
       "       resistor   W  amp_mean       amp_var     amp_std\n",
       "w67_2      1800  67  1331.075  22889.235553  151.291889"
      ]
     },
     "execution_count": 3,
     "metadata": {},
     "output_type": "execute_result"
    }
   ],
   "source": [
    "w67_2 = pd.read_csv(\"w67_2.csv\")\n",
    "amp_mean = w67_2['amp'].mean()\n",
    "amp_var = w67_2['amp'].var()\n",
    "amp_std = w67_2['amp'].std()\n",
    "df_result.loc[\"w67_2\"] = {\"resistor\": 1800, \"W\": 67, \"amp_mean\": amp_mean, \"amp_var\": amp_var, \"amp_std\": amp_std}\n",
    "df_result"
   ]
  },
  {
   "cell_type": "code",
   "execution_count": 4,
   "metadata": {},
   "outputs": [
    {
     "data": {
      "text/html": [
       "<div>\n",
       "<style scoped>\n",
       "    .dataframe tbody tr th:only-of-type {\n",
       "        vertical-align: middle;\n",
       "    }\n",
       "\n",
       "    .dataframe tbody tr th {\n",
       "        vertical-align: top;\n",
       "    }\n",
       "\n",
       "    .dataframe thead th {\n",
       "        text-align: right;\n",
       "    }\n",
       "</style>\n",
       "<table border=\"1\" class=\"dataframe\">\n",
       "  <thead>\n",
       "    <tr style=\"text-align: right;\">\n",
       "      <th></th>\n",
       "      <th>resistor</th>\n",
       "      <th>W</th>\n",
       "      <th>amp_mean</th>\n",
       "      <th>amp_var</th>\n",
       "      <th>amp_std</th>\n",
       "    </tr>\n",
       "  </thead>\n",
       "  <tbody>\n",
       "    <tr>\n",
       "      <th>w67_2</th>\n",
       "      <td>1800</td>\n",
       "      <td>67</td>\n",
       "      <td>1331.075</td>\n",
       "      <td>22889.235553</td>\n",
       "      <td>151.291889</td>\n",
       "    </tr>\n",
       "    <tr>\n",
       "      <th>w45_2</th>\n",
       "      <td>1800</td>\n",
       "      <td>45</td>\n",
       "      <td>1400.210</td>\n",
       "      <td>12256.779799</td>\n",
       "      <td>110.710342</td>\n",
       "    </tr>\n",
       "  </tbody>\n",
       "</table>\n",
       "</div>"
      ],
      "text/plain": [
       "       resistor   W  amp_mean       amp_var     amp_std\n",
       "w67_2      1800  67  1331.075  22889.235553  151.291889\n",
       "w45_2      1800  45  1400.210  12256.779799  110.710342"
      ]
     },
     "execution_count": 4,
     "metadata": {},
     "output_type": "execute_result"
    }
   ],
   "source": [
    "w45_2 = pd.read_csv(\"w45_2.csv\")\n",
    "amp_mean = w45_2['amp'].mean()\n",
    "amp_var = w45_2['amp'].var()\n",
    "amp_std = w45_2['amp'].std()\n",
    "df_result.loc[\"w45_2\"] = {\"resistor\": 1800, \"W\": 45, \"amp_mean\": amp_mean, \"amp_var\": amp_var, \"amp_std\": amp_std}\n",
    "df_result"
   ]
  },
  {
   "cell_type": "code",
   "execution_count": 5,
   "metadata": {},
   "outputs": [
    {
     "data": {
      "text/html": [
       "<div>\n",
       "<style scoped>\n",
       "    .dataframe tbody tr th:only-of-type {\n",
       "        vertical-align: middle;\n",
       "    }\n",
       "\n",
       "    .dataframe tbody tr th {\n",
       "        vertical-align: top;\n",
       "    }\n",
       "\n",
       "    .dataframe thead th {\n",
       "        text-align: right;\n",
       "    }\n",
       "</style>\n",
       "<table border=\"1\" class=\"dataframe\">\n",
       "  <thead>\n",
       "    <tr style=\"text-align: right;\">\n",
       "      <th></th>\n",
       "      <th>resistor</th>\n",
       "      <th>W</th>\n",
       "      <th>amp_mean</th>\n",
       "      <th>amp_var</th>\n",
       "      <th>amp_std</th>\n",
       "    </tr>\n",
       "  </thead>\n",
       "  <tbody>\n",
       "    <tr>\n",
       "      <th>w67_2</th>\n",
       "      <td>1800</td>\n",
       "      <td>67</td>\n",
       "      <td>1331.075</td>\n",
       "      <td>22889.235553</td>\n",
       "      <td>151.291889</td>\n",
       "    </tr>\n",
       "    <tr>\n",
       "      <th>w45_2</th>\n",
       "      <td>1800</td>\n",
       "      <td>45</td>\n",
       "      <td>1400.210</td>\n",
       "      <td>12256.779799</td>\n",
       "      <td>110.710342</td>\n",
       "    </tr>\n",
       "    <tr>\n",
       "      <th>w27_2</th>\n",
       "      <td>1800</td>\n",
       "      <td>27</td>\n",
       "      <td>772.255</td>\n",
       "      <td>3881.165804</td>\n",
       "      <td>62.299003</td>\n",
       "    </tr>\n",
       "  </tbody>\n",
       "</table>\n",
       "</div>"
      ],
      "text/plain": [
       "       resistor   W  amp_mean       amp_var     amp_std\n",
       "w67_2      1800  67  1331.075  22889.235553  151.291889\n",
       "w45_2      1800  45  1400.210  12256.779799  110.710342\n",
       "w27_2      1800  27   772.255   3881.165804   62.299003"
      ]
     },
     "execution_count": 5,
     "metadata": {},
     "output_type": "execute_result"
    }
   ],
   "source": [
    "w27_2 = pd.read_csv(\"w27_2.csv\")\n",
    "amp_mean = w27_2['amp'].mean()\n",
    "amp_var = w27_2['amp'].var()\n",
    "amp_std = w27_2['amp'].std()\n",
    "df_result.loc[\"w27_2\"] = {\"resistor\": 1800, \"W\": 27, \"amp_mean\": amp_mean, \"amp_var\": amp_var, \"amp_std\": amp_std}\n",
    "df_result"
   ]
  },
  {
   "cell_type": "code",
   "execution_count": 10,
   "metadata": {},
   "outputs": [],
   "source": [
    "def update_result(name, resistor, W):\n",
    "    df = pd.read_csv(f\"{name}.csv\")\n",
    "    amp_mean = df['amp'].mean()\n",
    "    amp_var = df['amp'].var()\n",
    "    amp_std = df['amp'].std()\n",
    "    df_result.loc[name] = {\"resistor\": resistor, \"W\": W, \"amp_mean\": amp_mean, \"amp_var\": amp_var, \"amp_std\": amp_std}\n",
    "    display(df_result)"
   ]
  },
  {
   "cell_type": "code",
   "execution_count": 11,
   "metadata": {},
   "outputs": [
    {
     "data": {
      "text/html": [
       "<div>\n",
       "<style scoped>\n",
       "    .dataframe tbody tr th:only-of-type {\n",
       "        vertical-align: middle;\n",
       "    }\n",
       "\n",
       "    .dataframe tbody tr th {\n",
       "        vertical-align: top;\n",
       "    }\n",
       "\n",
       "    .dataframe thead th {\n",
       "        text-align: right;\n",
       "    }\n",
       "</style>\n",
       "<table border=\"1\" class=\"dataframe\">\n",
       "  <thead>\n",
       "    <tr style=\"text-align: right;\">\n",
       "      <th></th>\n",
       "      <th>resistor</th>\n",
       "      <th>W</th>\n",
       "      <th>amp_mean</th>\n",
       "      <th>amp_var</th>\n",
       "      <th>amp_std</th>\n",
       "    </tr>\n",
       "  </thead>\n",
       "  <tbody>\n",
       "    <tr>\n",
       "      <th>w67_2</th>\n",
       "      <td>1800</td>\n",
       "      <td>67</td>\n",
       "      <td>1331.075</td>\n",
       "      <td>22889.235553</td>\n",
       "      <td>151.291889</td>\n",
       "    </tr>\n",
       "    <tr>\n",
       "      <th>w45_2</th>\n",
       "      <td>1800</td>\n",
       "      <td>45</td>\n",
       "      <td>1400.210</td>\n",
       "      <td>12256.779799</td>\n",
       "      <td>110.710342</td>\n",
       "    </tr>\n",
       "    <tr>\n",
       "      <th>w27_2</th>\n",
       "      <td>1800</td>\n",
       "      <td>27</td>\n",
       "      <td>772.255</td>\n",
       "      <td>3881.165804</td>\n",
       "      <td>62.299003</td>\n",
       "    </tr>\n",
       "    <tr>\n",
       "      <th>w45_3</th>\n",
       "      <td>1800</td>\n",
       "      <td>45</td>\n",
       "      <td>486.080</td>\n",
       "      <td>5376.305126</td>\n",
       "      <td>73.323292</td>\n",
       "    </tr>\n",
       "  </tbody>\n",
       "</table>\n",
       "</div>"
      ],
      "text/plain": [
       "       resistor   W  amp_mean       amp_var     amp_std\n",
       "w67_2      1800  67  1331.075  22889.235553  151.291889\n",
       "w45_2      1800  45  1400.210  12256.779799  110.710342\n",
       "w27_2      1800  27   772.255   3881.165804   62.299003\n",
       "w45_3      1800  45   486.080   5376.305126   73.323292"
      ]
     },
     "metadata": {},
     "output_type": "display_data"
    }
   ],
   "source": [
    "update_result(\"w45_3\", 1800, 45)"
   ]
  }
 ],
 "metadata": {
  "kernelspec": {
   "display_name": ".venv",
   "language": "python",
   "name": "python3"
  },
  "language_info": {
   "codemirror_mode": {
    "name": "ipython",
    "version": 3
   },
   "file_extension": ".py",
   "mimetype": "text/x-python",
   "name": "python",
   "nbconvert_exporter": "python",
   "pygments_lexer": "ipython3",
   "version": "3.13.1"
  }
 },
 "nbformat": 4,
 "nbformat_minor": 2
}
